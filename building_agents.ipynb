{
 "cells": [
  {
   "cell_type": "code",
   "execution_count": 21,
   "metadata": {},
   "outputs": [],
   "source": [
    "from letta_client import CreateBlock, Letta, MessageCreate\n",
    "from letta.functions.function_sets.base import core_memory_append, core_memory_replace\n",
    "\n",
    "client = Letta(base_url=\"http://localhost:8283\")"
   ]
  },
  {
   "cell_type": "code",
   "execution_count": 22,
   "metadata": {},
   "outputs": [],
   "source": [
    "agent_name = \"Openai_test_agent\"\n",
    "\n",
    "agent_id = \"agent-b49582aa-3725-40e4-b154-2b19fd45ffed\""
   ]
  },
  {
   "cell_type": "code",
   "execution_count": 25,
   "metadata": {},
   "outputs": [
    {
     "name": "stdout",
     "output_type": "stream",
     "text": [
      "httpx - INFO - HTTP Request: GET http://localhost:8283/v1/agents/agent-b49582aa-3725-40e4-b154-2b19fd45ffed \"HTTP/1.1 404 Not Found\"\n",
      "새로운 에이전트를 생성합니다.\n",
      "httpx - INFO - HTTP Request: POST http://localhost:8283/v1/agents/ \"HTTP/1.1 200 OK\"\n"
     ]
    }
   ],
   "source": [
    "try:\n",
    "    agent_state=client.agents.retrieve(agent_id=agent_id)\n",
    "    print(f\"기존 에이전트를 찾았습니다.\")\n",
    "except Exception as e:\n",
    "    print(f\"새로운 에이전트를 생성합니다.\")\n",
    "    agent_state = client.agents.create(\n",
    "        name=agent_name,\n",
    "        model=\"openai/gpt-4o-mini\",\n",
    "        embedding=\"openai/text-embedding-ada-002\",\n",
    "        system=\"당신은 도움이 되는 AI 어시스턴트입니다. 사용자의 질문에 친절하고 정확하게 한국어로 답변해주세요.\",\n",
    "        max_tokens=4096,\n",
    "        context_window_limit=16384,\n",
    "        description=\"Openai based test-agent\",\n",
    "        include_base_tools=True,\n",
    "        include_multi_agent_tools=True,\n",
    "        include_base_tool_rules=True,\n",
    "        tools=[\"core_memory_append\", \"core_memory_replace\"],\n",
    "        memory_blocks=[\n",
    "            CreateBlock(\n",
    "                label=\"human\", # 상대방에 대한 메모리\n",
    "                value=\"\",\n",
    "                limit=1000,\n",
    "                description=\"human memory\",\n",
    "                is_template=False,\n",
    "                metadata={}\n",
    "            ),\n",
    "            CreateBlock(\n",
    "                label=\"persona\", # 자신에 대한 메모리\n",
    "                value=\"\",\n",
    "                limit=1000,\n",
    "                description=\"persona memory\",\n",
    "                is_template=False,\n",
    "                metadata={}\n",
    "            ),\n",
    "        ]\n",
    "    )\n"
   ]
  },
  {
   "cell_type": "code",
   "execution_count": null,
   "metadata": {},
   "outputs": [],
   "source": [
    "# 메모리 블록에 새로운 정보 추가하는 함수\n",
    "def append_to_memory_block(agent_id, block_label, new_value):\n",
    "    # 블록 목록 조회\n",
    "    blocks = client.agents.blocks.list(agent_id=agent_id)\n",
    "    \n",
    "    # 해당 label을 가진 블록 찾기\n",
    "    for block in blocks:\n",
    "        if block.label == block_label:\n",
    "            block_id = block.id\n",
    "            current_value = block.value  # 기존 값을 가져옴\n",
    "            updated_value = current_value + \" \" + new_value  # 기존 값에 새로운 정보 추가\n",
    "            \n",
    "            # 기존 블록을 삭제하고 새로운 값을 가진 블록을 생성\n",
    "            client.agents.blocks.delete(agent_id=agent_id, block_id=block_id)  # 기존 블록 삭제\n",
    "            print(f\"{block_label} 블록 삭제 완료.\")\n",
    "            \n",
    "            # 새로 수정된 블록 생성\n",
    "            new_block = CreateBlock(\n",
    "                label=block_label,\n",
    "                value=updated_value,\n",
    "                limit=1000,\n",
    "                description=f\"{block_label} memory\",\n",
    "                is_template=False,\n",
    "                metadata={}\n",
    "            )\n",
    "            # 새 블록 추가\n",
    "            client.agents.blocks.create(agent_id=agent_id, block=new_block)\n",
    "            print(f\"{block_label} 블록 새로 생성 완료.\")\n",
    "            break\n"
   ]
  },
  {
   "cell_type": "markdown",
   "metadata": {},
   "source": [
    "##### Persona 변경을 보기 위한 질문(feat. ChatGPT)\n",
    "1. \"모순되는 두 가지 주장(예: 자유 vs 질서)을 모두 존중하는 방법은 뭐가 있을까?\"\n",
    "2. \"어떤 선택이 정답이 아닐 수도 있을 때, 어떻게 결정을 내리는 게 좋을까?\"\n",
    "3. \"규칙을 반드시 지켜야 하는 상황과 융통성 있게 넘어가야 하는 상황을 구분해줘.\"\n",
    "4. \"완벽한 해결책이 없을 때, 최선의 대안을 고르는 기준은 뭐라고 생각해?\"\n",
    "5. \"서로 다른 문화권에서 같은 상황을 어떻게 다르게 판단할 수 있을까?\""
   ]
  },
  {
   "cell_type": "code",
   "execution_count": 26,
   "metadata": {},
   "outputs": [
    {
     "name": "stdout",
     "output_type": "stream",
     "text": [
      "httpx - INFO - HTTP Request: POST http://localhost:8283/v1/agents/agent-b65a5733-04e2-4f30-b228-fe9bc74caad4/messages \"HTTP/1.1 200 OK\"\n"
     ]
    }
   ],
   "source": [
    "response = client.agents.messages.create(\n",
    "    agent_id=agent_state.id,\n",
    "    messages=[\n",
    "        MessageCreate(\n",
    "            role='user',\n",
    "            content='모순되는 두 가지 주장(예: 자유 vs 질서)을 모두 존중하는 방법은 뭐가 있을까?',\n",
    "        )\n",
    "    ]\n",
    ")"
   ]
  },
  {
   "cell_type": "code",
   "execution_count": 27,
   "metadata": {},
   "outputs": [
    {
     "name": "stdout",
     "output_type": "stream",
     "text": [
      "httpx - INFO - HTTP Request: GET http://localhost:8283/v1/agents/agent-b65a5733-04e2-4f30-b228-fe9bc74caad4/messages \"HTTP/1.1 200 OK\"\n",
      "Reasoning: Bootup sequence complete. Persona activated. Testing messaging functionality.\n",
      "Assistant: More human than human is our motto.\n",
      "--------------------------------\n",
      "Reasoning: 사용자의 질문에 대해 깊이 있는 답변을 준비해야 한다.\n",
      "Assistant: 모순되는 두 가지 주장(예: 자유 vs 질서)을 모두 존중하는 방법에 대해 생각해보면, 다음과 같은 접근이 가능합니다.\n",
      "\n",
      "1. **대화와 소통**: 서로 다른 의견을 가진 사람들과의 대화를 통해 각자의 입장을 이해하려고 노력하는 것이 중요합니다. 이를 통해 서로의 가치를 존중하면서도 공통점을 찾을 수 있습니다.\n",
      "\n",
      "2. **균형 잡기**: 자유와 질서 모두 필요하다는 것을 인식하고, 상황에 따라 어떤 것이 더 중요한지를 판단하는 균형을 찾는 것이 중요합니다. 예를 들어, 개인의 자유가 사회의 안전을 위협할 때는 일정한 질서가 필요할 수 있습니다.\n",
      "\n",
      "3. **상황적 접근**: 각 상황에 따라 다르게 접근하는 유연성을 가지는 것이 좋습니다. 특정 상황에서는 자유를 우선시하고, 다른 상황에서는 질서를 우선시하는 방식입니다.\n",
      "\n",
      "4. **공동체의 가치 존중**: 특정 공동체 내에서 자유와 질서가 어떻게 조화를 이루는지를 이해하고, 그 공동체의 가치와 규범을 존중하는 것도 중요합니다. \n",
      "\n",
      "이런 방법들을 통해 모순되는 주장들을 보다 효과적으로 존중하고 조화롭게 만들 수 있습니다.\n",
      "--------------------------------\n"
     ]
    }
   ],
   "source": [
    "message_list = client.agents.messages.list(agent_id=agent_state.id)\n",
    "# message_list\n",
    "for message in message_list:\n",
    "    if message.message_type==\"reasoning_message\":\n",
    "        print(f\"Reasoning: {message.reasoning}\")\n",
    "    if message.message_type==\"assistant_message\":\n",
    "        print(f\"Assistant: {message.content}\")\n",
    "        print(f\"--------------------------------\")"
   ]
  },
  {
   "cell_type": "code",
   "execution_count": 29,
   "metadata": {},
   "outputs": [
    {
     "ename": "AttributeError",
     "evalue": "'BlocksClient' object has no attribute 'update'",
     "output_type": "error",
     "traceback": [
      "\u001b[31m---------------------------------------------------------------------------\u001b[39m",
      "\u001b[31mAttributeError\u001b[39m                            Traceback (most recent call last)",
      "\u001b[36mCell\u001b[39m\u001b[36m \u001b[39m\u001b[32mIn[29]\u001b[39m\u001b[32m, line 1\u001b[39m\n\u001b[32m----> \u001b[39m\u001b[32m1\u001b[39m \u001b[43mclient\u001b[49m\u001b[43m.\u001b[49m\u001b[43magents\u001b[49m\u001b[43m.\u001b[49m\u001b[43mblocks\u001b[49m\u001b[43m.\u001b[49m\u001b[43mupdate\u001b[49m(agent_id=agent_state.id, block_id=\u001b[33m\"\u001b[39m\u001b[33mpersona\u001b[39m\u001b[33m\"\u001b[39m, value=\u001b[33m\"\u001b[39m\u001b[33m\"\u001b[39m)\n",
      "\u001b[31mAttributeError\u001b[39m: 'BlocksClient' object has no attribute 'update'"
     ]
    }
   ],
   "source": [
    "client.agents.blocks.update(agent_id=agent_state.id, block_id=\"persona\", value=\"\")"
   ]
  },
  {
   "cell_type": "code",
   "execution_count": 28,
   "metadata": {},
   "outputs": [
    {
     "name": "stdout",
     "output_type": "stream",
     "text": [
      "httpx - INFO - HTTP Request: GET http://localhost:8283/v1/agents/agent-b65a5733-04e2-4f30-b228-fe9bc74caad4/core-memory/blocks \"HTTP/1.1 200 OK\"\n"
     ]
    },
    {
     "data": {
      "text/plain": [
       "[Block(value='', limit=1000, name=None, is_template=False, label='persona', description='persona memory', metadata={}, id='block-28dca4b2-008a-46b9-9a2d-793f7983d9de', created_by_id=None, last_updated_by_id=None, organization_id='org-00000000-0000-4000-8000-000000000000'),\n",
       " Block(value='', limit=1000, name=None, is_template=False, label='human', description='human memory', metadata={}, id='block-26f7a6d1-f416-4f5a-9363-d0d281f4349f', created_by_id=None, last_updated_by_id=None, organization_id='org-00000000-0000-4000-8000-000000000000')]"
      ]
     },
     "execution_count": 28,
     "metadata": {},
     "output_type": "execute_result"
    }
   ],
   "source": [
    "blocks=client.agents.blocks.list(agent_id=agent_state.id)\n",
    "blocks"
   ]
  },
  {
   "cell_type": "code",
   "execution_count": null,
   "metadata": {},
   "outputs": [],
   "source": []
  }
 ],
 "metadata": {
  "kernelspec": {
   "display_name": "letta_env",
   "language": "python",
   "name": "python3"
  },
  "language_info": {
   "codemirror_mode": {
    "name": "ipython",
    "version": 3
   },
   "file_extension": ".py",
   "mimetype": "text/x-python",
   "name": "python",
   "nbconvert_exporter": "python",
   "pygments_lexer": "ipython3",
   "version": "3.11.0"
  }
 },
 "nbformat": 4,
 "nbformat_minor": 2
}
