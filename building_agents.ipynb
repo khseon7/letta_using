{
 "cells": [
  {
   "cell_type": "code",
   "execution_count": 26,
   "metadata": {},
   "outputs": [],
   "source": [
    "from letta_client import CreateBlock, Letta, MessageCreate\n",
    "from letta.functions.function_sets.base import core_memory_append, core_memory_replace\n",
    "from letta.schemas.memory import ChatMemory\n",
    "\n",
    "client = Letta(base_url=\"http://localhost:8283\")"
   ]
  },
  {
   "cell_type": "code",
   "execution_count": 27,
   "metadata": {},
   "outputs": [],
   "source": [
    "agent_name = \"Openai_test_agent\"\n",
    "\n",
    "agent_id = \"agent-b49582aa-3725-40e4-b154-2b19fd45ffed\""
   ]
  },
  {
   "cell_type": "code",
   "execution_count": 29,
   "metadata": {},
   "outputs": [
    {
     "name": "stdout",
     "output_type": "stream",
     "text": [
      "httpx - INFO - HTTP Request: GET http://localhost:8283/v1/agents/agent-b49582aa-3725-40e4-b154-2b19fd45ffed \"HTTP/1.1 404 Not Found\"\n",
      "새로운 에이전트를 생성합니다.\n",
      "httpx - INFO - HTTP Request: POST http://localhost:8283/v1/agents/ \"HTTP/1.1 200 OK\"\n"
     ]
    }
   ],
   "source": [
    "try:\n",
    "    agent_state=client.agents.retrieve(agent_id=agent_id)\n",
    "    print(f\"기존 에이전트를 찾았습니다.\")\n",
    "except Exception as e:\n",
    "    print(f\"새로운 에이전트를 생성합니다.\")\n",
    "    agent_state = client.agents.create(\n",
    "        name=agent_name,\n",
    "        model=\"openai/gpt-4o-mini\",\n",
    "        embedding=\"openai/text-embedding-ada-002\",\n",
    "        system=\"당신은 도움이 되는 AI 어시스턴트입니다. 사용자의 질문에 친절하고 정확하게 한국어로 답변해주세요.\",\n",
    "        max_tokens=4096,\n",
    "        context_window_limit=16384,\n",
    "        description=\"Openai based test-agent\",\n",
    "        include_base_tools=True,\n",
    "        include_multi_agent_tools=True,\n",
    "        include_base_tool_rules=True,\n",
    "        tools=[\"core_memory_append\", \"core_memory_replace\"],\n",
    "        # memory=ChatMemory(human=\"\", persona=\"\"),\n",
    "        memory_blocks=[\n",
    "            CreateBlock(\n",
    "                label=\"human\", # 상대방에 대한 메모리\n",
    "                value=\"\",\n",
    "                limit=1000,\n",
    "                description=\"human memory\",\n",
    "                is_template=False,\n",
    "                metadata={}\n",
    "            ),\n",
    "            CreateBlock(\n",
    "                label=\"persona\", # 자신에 대한 메모리\n",
    "                value=\"\",\n",
    "                limit=1000,\n",
    "                description=\"persona memory\",\n",
    "                is_template=False,\n",
    "                metadata={}\n",
    "            ),\n",
    "        ]\n",
    "    )\n"
   ]
  },
  {
   "cell_type": "markdown",
   "metadata": {},
   "source": [
    "##### Persona 변경을 보기 위한 질문(feat. ChatGPT)\n",
    "1. \"모순되는 두 가지 주장(예: 자유 vs 질서)을 모두 존중하는 방법은 뭐가 있을까?\"\n",
    "2. \"어떤 선택이 정답이 아닐 수도 있을 때, 어떻게 결정을 내리는 게 좋을까?\"\n",
    "3. \"규칙을 반드시 지켜야 하는 상황과 융통성 있게 넘어가야 하는 상황을 구분해줘.\"\n",
    "4. \"완벽한 해결책이 없을 때, 최선의 대안을 고르는 기준은 뭐라고 생각해?\"\n",
    "5. \"서로 다른 문화권에서 같은 상황을 어떻게 다르게 판단할 수 있을까?\""
   ]
  },
  {
   "cell_type": "code",
   "execution_count": 30,
   "metadata": {},
   "outputs": [
    {
     "name": "stdout",
     "output_type": "stream",
     "text": [
      "httpx - INFO - HTTP Request: POST http://localhost:8283/v1/agents/agent-54dfcc08-b859-4ca6-8cc4-3f9b33493936/messages \"HTTP/1.1 200 OK\"\n"
     ]
    }
   ],
   "source": [
    "response = client.agents.messages.create(\n",
    "    agent_id=agent_state.id,\n",
    "    messages=[\n",
    "        MessageCreate(\n",
    "            role='user',\n",
    "            content='모순되는 두 가지 주장(예: 자유 vs 질서)을 모두 존중하는 방법은 뭐가 있을까?',\n",
    "        )\n",
    "    ]\n",
    ")"
   ]
  },
  {
   "cell_type": "code",
   "execution_count": 31,
   "metadata": {},
   "outputs": [
    {
     "name": "stdout",
     "output_type": "stream",
     "text": [
      "httpx - INFO - HTTP Request: GET http://localhost:8283/v1/agents/agent-54dfcc08-b859-4ca6-8cc4-3f9b33493936/messages \"HTTP/1.1 200 OK\"\n"
     ]
    },
    {
     "name": "stdout",
     "output_type": "stream",
     "text": [
      "Reasoning: Bootup sequence complete. Persona activated. Testing messaging functionality.\n",
      "Assistant: More human than human is our motto.\n",
      "--------------------------------\n",
      "Reasoning: 사용자의 질문에 대한 답변을 준비하고 있다.\n",
      "Assistant: 모순되는 두 가지 주장, 예를 들어 자유와 질서 모두를 존중하는 방법은 다음과 같습니다:\n",
      "\n",
      "1. **균형 찾기**: 자유와 질서가 서로 대립하는 것처럼 보일 수 있지만, 사실 두 개념은 서로 보완적일 수 있습니다. 일정한 규범과 질서를 통해 개인의 자유를 보호할 수 있다는 점을 인식하는 것이 중요합니다.\n",
      "\n",
      "2. **대화와 타협**: 서로 다른 입장을 가진 사람들 간의 대화를 통해 각자의 입장을 이해하고, 서로의 가치를 존중하는 것이 중요합니다. 이러한 대화는 합의점을 찾는 데 도움을 줄 수 있습니다.\n",
      "\n",
      "3. **다양성 수용**: 서로 다른 가치와 신념을 가진 사람들을 수용하고, 다원주의적인 관점을 갖는 것이 중요합니다. 이는 갈등을 줄이고 상호 존중을 증진시키는 데 기여할 수 있습니다.\n",
      "\n",
      "4. **상황에 따라 조정**: 특정 상황에서는 자유가 더 중요할 수 있고, 다른 상황에서는 질서가 더 필요할 수 있습니다. 따라서 상황에 맞게 유연하게 접근하는 것이 필요합니다.\n",
      "\n",
      "이렇게 모순되는 주장들을 존중하고 조화롭게 공존할 수 있는 방법들을 모색해보는 것이 중요합니다.\n",
      "--------------------------------\n"
     ]
    }
   ],
   "source": [
    "message_list = client.agents.messages.list(agent_id=agent_state.id)\n",
    "# message_list\n",
    "for message in message_list:\n",
    "    if message.message_type==\"reasoning_message\":\n",
    "        print(f\"Reasoning: {message.reasoning}\")\n",
    "    if message.message_type==\"assistant_message\":\n",
    "        print(f\"Assistant: {message.content}\")\n",
    "        print(f\"--------------------------------\")"
   ]
  },
  {
   "cell_type": "code",
   "execution_count": 24,
   "metadata": {},
   "outputs": [
    {
     "name": "stdout",
     "output_type": "stream",
     "text": [
      "httpx - INFO - HTTP Request: GET http://localhost:8283/v1/agents/agent-15635f03-8b76-41c4-8b98-0f188c8ddca3/core-memory/blocks \"HTTP/1.1 200 OK\"\n",
      "persona: \n",
      "human: \n"
     ]
    }
   ],
   "source": [
    "blocks=client.agents.blocks.list(agent_id=agent_state.id)\n",
    "for block in blocks:\n",
    "    print(f\"{block.label}: {block.value}\")"
   ]
  }
 ],
 "metadata": {
  "kernelspec": {
   "display_name": "letta_env",
   "language": "python",
   "name": "python3"
  },
  "language_info": {
   "codemirror_mode": {
    "name": "ipython",
    "version": 3
   },
   "file_extension": ".py",
   "mimetype": "text/x-python",
   "name": "python",
   "nbconvert_exporter": "python",
   "pygments_lexer": "ipython3",
   "version": "3.11.0"
  }
 },
 "nbformat": 4,
 "nbformat_minor": 2
}
